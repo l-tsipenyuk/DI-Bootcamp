{
  "metadata": {
    "language_info": {
      "codemirror_mode": {
        "name": "python",
        "version": 3
      },
      "file_extension": ".py",
      "mimetype": "text/x-python",
      "name": "python",
      "nbconvert_exporter": "python",
      "pygments_lexer": "ipython3",
      "version": "3.8"
    },
    "kernelspec": {
      "name": "python",
      "display_name": "Python (Pyodide)",
      "language": "python"
    }
  },
  "nbformat_minor": 4,
  "nbformat": 4,
  "cells": [
    {
      "cell_type": "code",
      "source": "import numpy as np",
      "metadata": {
        "trusted": true
      },
      "execution_count": 2,
      "outputs": []
    },
    {
      "cell_type": "code",
      "source": "data = np.array(np.random.randint(1, 100, size=25)).reshape(5,5)",
      "metadata": {
        "trusted": true
      },
      "execution_count": 7,
      "outputs": []
    },
    {
      "cell_type": "code",
      "source": "# 1. Matrix manipulation - Swap the second and fourth rows of the data matrix.\ndata[2,4] = data[4,2]\nprint(data)",
      "metadata": {
        "trusted": true
      },
      "execution_count": 8,
      "outputs": [
        {
          "name": "stdout",
          "text": "[[46 54 82 22 40]\n [23 78 65 60 59]\n [ 9 27 26 93 48]\n [ 6 58 69 37 74]\n [14  6 48 75 26]]\n",
          "output_type": "stream"
        }
      ]
    },
    {
      "cell_type": "code",
      "source": "# 2. Normalization- Normalize all the elements in the data matrix. In this context, normalizing means to scale the values in such a way that they fall within the range of 0 and 1. To achieve this, subtract the minimum value from each element and divide by the range (max-min).\nnormalized_data = (data - np.min(data)) / (np.max(data) - np.min(data))\nprint(normalized_data)",
      "metadata": {
        "trusted": true
      },
      "execution_count": 9,
      "outputs": [
        {
          "name": "stdout",
          "text": "[[0.45977011 0.55172414 0.87356322 0.18390805 0.3908046 ]\n [0.1954023  0.82758621 0.67816092 0.62068966 0.6091954 ]\n [0.03448276 0.24137931 0.22988506 1.         0.48275862]\n [0.         0.59770115 0.72413793 0.35632184 0.7816092 ]\n [0.09195402 0.         0.48275862 0.79310345 0.22988506]]\n",
          "output_type": "stream"
        }
      ]
    },
    {
      "cell_type": "code",
      "source": "# 3. Z-score normalization - Standardize the elements in the data matrix using Z-score normalization. In this method, all the elements will be rescaled to have a mean of 0 and a standard deviation of 1. The formula for Z-score normalization is\n# (X - mean) / std , where ( X ) is the element in the data matrix.\nz_score_data = (data - np.mean(data)) / np.std(data)\nprint(z_score_data)",
      "metadata": {
        "trusted": true
      },
      "execution_count": 10,
      "outputs": [
        {
          "name": "stdout",
          "text": "[[ 0.00800641  0.32826272  1.44915979 -0.95276252 -0.23218582]\n [-0.91273048  1.28903164  0.76861514  0.56845495  0.52842291]\n [-1.47317902 -0.75260232 -0.79263436  1.88951221  0.08807048]\n [-1.59327513  0.48839087  0.92874329 -0.35228194  1.12890348]\n [-1.27301882 -1.59327513  0.08807048  1.16893552 -0.79263436]]\n",
          "output_type": "stream"
        }
      ]
    },
    {
      "cell_type": "code",
      "source": "# 4. Array splitting - Reshape the data matrix into a vector (Hint: use np.ravel) and split this array into five equal-sized sub-arrays.\nflatten = np.ravel(data)\narr1 = flatten[:5]\narr2 = flatten[5:10]\narr3 = flatten[10:15]\narr4 = flatten[15:20]\narr5 = flatten[20:25]\nprint([arr1, arr2, arr3, arr4, arr5])",
      "metadata": {
        "trusted": true
      },
      "execution_count": 24,
      "outputs": [
        {
          "name": "stdout",
          "text": "[array([46, 54, 82, 22, 40]), array([23, 78, 65, 60, 59]), array([ 9, 27, 26, 93, 48]), array([ 6, 58, 69, 37, 74]), array([14,  6, 48, 75, 26])]\n",
          "output_type": "stream"
        }
      ]
    },
    {
      "cell_type": "code",
      "source": "# 5. Dot product - Create two vectors of size 5 with any values. Compute the dot product of the two vectors*.\narr1 = np.array([1, 2, 3, 4, 5])\narr2 = np.array([6, 7, 8, 9, 10])\nres = np.dot(arr1, arr2)\nprint(res)",
      "metadata": {
        "trusted": true
      },
      "execution_count": 28,
      "outputs": [
        {
          "name": "stdout",
          "text": "130\n",
          "output_type": "stream"
        }
      ]
    },
    {
      "cell_type": "code",
      "source": "# 6. Matrix multiplication - Create another 3x3 matrix with any values (let’s call it data2). Perform matrix multiplication (dot product of data (first 3x3 part) and data2).\ndata2 = np.arange(0,9).reshape(3,3)\ndata_short = np.concatenate((data[0:3,0], data[0:3,1], data[0:3,2]),axis = 0).reshape(3,3)\nres = np.dot(data2, data_short)\nprint(res)",
      "metadata": {
        "trusted": true
      },
      "execution_count": 45,
      "outputs": [
        {
          "name": "stdout",
          "text": "[[ 218  208   79]\n [ 764  706  265]\n [1310 1204  451]]\n",
          "output_type": "stream"
        }
      ]
    },
    {
      "cell_type": "code",
      "source": "# 7.Inverse of a matrix - Create a 3x3 identity matrix*, multiply it with 2 and compute its inverse.\ndata3 = np.eye(3)*2\ninverse = np.linalg.inv(data3)\nprint(inverse)",
      "metadata": {
        "trusted": true
      },
      "execution_count": 48,
      "outputs": [
        {
          "name": "stdout",
          "text": "[[0.5 0.  0. ]\n [0.  0.5 0. ]\n [0.  0.  0.5]]\n",
          "output_type": "stream"
        }
      ]
    },
    {
      "cell_type": "code",
      "source": "# 8. Eigenvalues and eigenvectors - For the first 3x3 part of the data matrix, compute the eigenvalues and eigenvectors*.\na = np.linalg.eig(data_short)\nprint(a)",
      "metadata": {
        "trusted": true
      },
      "execution_count": 50,
      "outputs": [
        {
          "name": "stdout",
          "text": "EigResult(eigenvalues=array([125.88632742,  22.25237369,   1.86129889]), eigenvectors=array([[-0.27376285, -0.56217787, -0.02875879],\n       [-0.68778719,  0.73145877, -0.31590512],\n       [-0.67231144, -0.38590686,  0.94835483]]))\n",
          "output_type": "stream"
        }
      ]
    },
    {
      "cell_type": "code",
      "source": "# 9. Find missing values - Replace random 5 elements in the data matrix with np.nan. Find the indices of the missing values.\ndata4 = np.array(np.random.randint(1, 100, size=25)).reshape(5,5)\nrand_ind = np.random.choice(data4.size, 5, replace=False)\ndata4 = data4.astype(float)\ndata4.flat[rand_ind] = np.nan\nprint(data4)",
      "metadata": {
        "trusted": true
      },
      "execution_count": 65,
      "outputs": [
        {
          "name": "stdout",
          "text": "[[11.  4.  8. 42. 72.]\n [nan 67.  9. 21. 37.]\n [32. 73. 45.  1. nan]\n [85. 15. nan nan 74.]\n [nan 54. 66. 23. 39.]]\n",
          "output_type": "stream"
        }
      ]
    },
    {
      "cell_type": "code",
      "source": "",
      "metadata": {},
      "execution_count": null,
      "outputs": []
    }
  ]
}