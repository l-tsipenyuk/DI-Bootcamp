{
  "metadata": {
    "language_info": {
      "codemirror_mode": {
        "name": "python",
        "version": 3
      },
      "file_extension": ".py",
      "mimetype": "text/x-python",
      "name": "python",
      "nbconvert_exporter": "python",
      "pygments_lexer": "ipython3",
      "version": "3.8"
    },
    "kernelspec": {
      "name": "python",
      "display_name": "Python (Pyodide)",
      "language": "python"
    }
  },
  "nbformat_minor": 4,
  "nbformat": 4,
  "cells": [
    {
      "cell_type": "code",
      "source": "import numpy as np",
      "metadata": {
        "trusted": true
      },
      "execution_count": 2,
      "outputs": []
    },
    {
      "cell_type": "code",
      "source": "data = np.array(np.random.randint(1, 100, size=25)).reshape(5,5)",
      "metadata": {
        "trusted": true
      },
      "execution_count": 7,
      "outputs": []
    },
    {
      "cell_type": "code",
      "source": "# 1. Matrix manipulation - Swap the second and fourth rows of the data matrix.\ndata[2,4] = data[4,2]\nprint(data)",
      "metadata": {
        "trusted": true
      },
      "execution_count": 8,
      "outputs": [
        {
          "name": "stdout",
          "text": "[[46 54 82 22 40]\n [23 78 65 60 59]\n [ 9 27 26 93 48]\n [ 6 58 69 37 74]\n [14  6 48 75 26]]\n",
          "output_type": "stream"
        }
      ]
    },
    {
      "cell_type": "code",
      "source": "# 2. Normalization- Normalize all the elements in the data matrix. In this context, normalizing means to scale the values in such a way that they fall within the range of 0 and 1. To achieve this, subtract the minimum value from each element and divide by the range (max-min).\nnormalized_data = (data - np.min(data)) / (np.max(data) - np.min(data))\nprint(normalized_data)",
      "metadata": {
        "trusted": true
      },
      "execution_count": 9,
      "outputs": [
        {
          "name": "stdout",
          "text": "[[0.45977011 0.55172414 0.87356322 0.18390805 0.3908046 ]\n [0.1954023  0.82758621 0.67816092 0.62068966 0.6091954 ]\n [0.03448276 0.24137931 0.22988506 1.         0.48275862]\n [0.         0.59770115 0.72413793 0.35632184 0.7816092 ]\n [0.09195402 0.         0.48275862 0.79310345 0.22988506]]\n",
          "output_type": "stream"
        }
      ]
    },
    {
      "cell_type": "code",
      "source": "# 3. Z-score normalization - Standardize the elements in the data matrix using Z-score normalization. In this method, all the elements will be rescaled to have a mean of 0 and a standard deviation of 1. The formula for Z-score normalization is\n# (X - mean) / std , where ( X ) is the element in the data matrix.\nz_score_data = (data - np.mean(data)) / np.std(data)\nprint(z_score_data)",
      "metadata": {
        "trusted": true
      },
      "execution_count": 10,
      "outputs": [
        {
          "name": "stdout",
          "text": "[[ 0.00800641  0.32826272  1.44915979 -0.95276252 -0.23218582]\n [-0.91273048  1.28903164  0.76861514  0.56845495  0.52842291]\n [-1.47317902 -0.75260232 -0.79263436  1.88951221  0.08807048]\n [-1.59327513  0.48839087  0.92874329 -0.35228194  1.12890348]\n [-1.27301882 -1.59327513  0.08807048  1.16893552 -0.79263436]]\n",
          "output_type": "stream"
        }
      ]
    },
    {
      "cell_type": "code",
      "source": "",
      "metadata": {},
      "execution_count": null,
      "outputs": []
    }
  ]
}